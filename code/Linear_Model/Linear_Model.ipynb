{
 "cells": [
  {
   "cell_type": "code",
   "execution_count": 3,
   "metadata": {},
   "outputs": [
    {
     "data": {
      "application/vnd.jupyter.widget-view+json": {
       "model_id": "b01b058c5b4647f0b3feadbb03ee2714",
       "version_major": 2,
       "version_minor": 0
      },
      "text/plain": [
       "VBox()"
      ]
     },
     "metadata": {},
     "output_type": "display_data"
    },
    {
     "data": {
      "application/vnd.jupyter.widget-view+json": {
       "model_id": "",
       "version_major": 2,
       "version_minor": 0
      },
      "text/plain": [
       "FloatProgress(value=0.0, bar_style='info', description='Progress:', layout=Layout(height='25px', width='50%'),…"
      ]
     },
     "metadata": {},
     "output_type": "display_data"
    }
   ],
   "source": [
    "# Import Necessary Modules\n",
    "sc.install_pypi_package(\"pandas==1.0.1\") #Install pandas version 1.0.1 \n",
    "from pyspark.ml.regression import LinearRegression\n",
    "from pyspark.ml.feature import VectorAssembler\n",
    "from pyspark.sql.functions import col\n",
    "import six\n",
    "import pandas as pd\n",
    "from pyspark.sql.types import DoubleType"
   ]
  },
  {
   "cell_type": "code",
   "execution_count": 4,
   "metadata": {},
   "outputs": [
    {
     "data": {
      "application/vnd.jupyter.widget-view+json": {
       "model_id": "4ea9716193504d7c87c5bdd9832f26da",
       "version_major": 2,
       "version_minor": 0
      },
      "text/plain": [
       "VBox()"
      ]
     },
     "metadata": {},
     "output_type": "display_data"
    },
    {
     "data": {
      "application/vnd.jupyter.widget-view+json": {
       "model_id": "",
       "version_major": 2,
       "version_minor": 0
      },
      "text/plain": [
       "FloatProgress(value=0.0, bar_style='info', description='Progress:', layout=Layout(height='25px', width='50%'),…"
      ]
     },
     "metadata": {},
     "output_type": "display_data"
    },
    {
     "name": "stdout",
     "output_type": "stream",
     "text": [
      "root\n",
      " |-- Date: string (nullable = true)\n",
      " |-- CO: string (nullable = true)\n",
      " |-- NO2: string (nullable = true)\n",
      " |-- SO2: string (nullable = true)\n",
      " |-- Ozone: string (nullable = true)\n",
      " |-- PM10: string (nullable = true)\n",
      " |-- PM2: string (nullable = true)\n",
      "\n",
      "[Row(Date='01/01/2016', CO='0.2', NO2='0.016300000000000002', SO2='0.0021000000000000003', Ozone='0.027', PM10='0.012', PM2='0.0114'), Row(Date='01/02/2016', CO='0.2', NO2='0.015099999999999999', SO2='0.0028', Ozone='0.027', PM10='0.008', PM2='0.006')]"
     ]
    }
   ],
   "source": [
    "# Read Data and Check Schema\n",
    "df = spark.read.csv(\"s3://aws-emr-resources-809118582415-us-east-2/datasetProcessed/part-00000-ba44a9e5-7570-4521-b600-3ded87f71063-c000.csv\", header=True)\n",
    "df.printSchema()\n",
    "df.take(2)"
   ]
  },
  {
   "cell_type": "code",
   "execution_count": 5,
   "metadata": {
    "scrolled": true
   },
   "outputs": [
    {
     "data": {
      "application/vnd.jupyter.widget-view+json": {
       "model_id": "c7595aa208d34c0e936e6318b8748dd4",
       "version_major": 2,
       "version_minor": 0
      },
      "text/plain": [
       "VBox()"
      ]
     },
     "metadata": {},
     "output_type": "display_data"
    },
    {
     "data": {
      "application/vnd.jupyter.widget-view+json": {
       "model_id": "",
       "version_major": 2,
       "version_minor": 0
      },
      "text/plain": [
       "FloatProgress(value=0.0, bar_style='info', description='Progress:', layout=Layout(height='25px', width='50%'),…"
      ]
     },
     "metadata": {},
     "output_type": "display_data"
    },
    {
     "name": "stdout",
     "output_type": "stream",
     "text": [
      "root\n",
      " |-- Date: string (nullable = true)\n",
      " |-- CO: double (nullable = true)\n",
      " |-- NO2: double (nullable = true)\n",
      " |-- SO2: double (nullable = true)\n",
      " |-- Ozone: double (nullable = true)\n",
      " |-- PM10: double (nullable = true)\n",
      " |-- PM2: double (nullable = true)"
     ]
    }
   ],
   "source": [
    "# Convert Strings to Type Double\n",
    "converted_df = df.withColumn(\"CO\", df[\"CO\"].cast(DoubleType())).withColumn(\"NO2\", df[\"NO2\"].cast(DoubleType())).withColumn(\"SO2\", df[\"SO2\"].cast(DoubleType())).withColumn(\"Ozone\", df[\"Ozone\"].cast(DoubleType())).withColumn(\"PM10\", df[\"PM10\"].cast(DoubleType())).withColumn(\"PM2\", df[\"PM2\"].cast(DoubleType()))\n",
    "converted_df.printSchema()"
   ]
  },
  {
   "cell_type": "code",
   "execution_count": 6,
   "metadata": {},
   "outputs": [
    {
     "data": {
      "application/vnd.jupyter.widget-view+json": {
       "model_id": "0402a55d0be8428cb83f2281c70cdeb3",
       "version_major": 2,
       "version_minor": 0
      },
      "text/plain": [
       "VBox()"
      ]
     },
     "metadata": {},
     "output_type": "display_data"
    },
    {
     "data": {
      "application/vnd.jupyter.widget-view+json": {
       "model_id": "",
       "version_major": 2,
       "version_minor": 0
      },
      "text/plain": [
       "FloatProgress(value=0.0, bar_style='info', description='Progress:', layout=Layout(height='25px', width='50%'),…"
      ]
     },
     "metadata": {},
     "output_type": "display_data"
    },
    {
     "name": "stdout",
     "output_type": "stream",
     "text": [
      "             0                     1  ...           3                    4\n",
      "summary  count                  mean  ...         min                  max\n",
      "Date      1427                  None  ...  01/01/2016           12/31/2019\n",
      "CO        1427    0.3908199018920808  ...         0.1                  1.9\n",
      "NO2       1427   0.02103279607568324  ...     -0.0028                0.059\n",
      "SO2       1427  0.001843658023826205  ...         0.0  0.07970000000000001\n",
      "Ozone     1427   0.03740084092501743  ...       0.002                0.083\n",
      "PM10      1427   0.01675543097407143  ...         0.0                0.072\n",
      "PM2       1427  0.009270707778556427  ...     -0.0023               0.0626\n",
      "\n",
      "[8 rows x 5 columns]"
     ]
    }
   ],
   "source": [
    "# Describe Data\n",
    "converted_df.describe().toPandas().transpose()"
   ]
  },
  {
   "cell_type": "code",
   "execution_count": 7,
   "metadata": {},
   "outputs": [
    {
     "data": {
      "application/vnd.jupyter.widget-view+json": {
       "model_id": "3468e1986c7c4bfcbebcf984827f4500",
       "version_major": 2,
       "version_minor": 0
      },
      "text/plain": [
       "VBox()"
      ]
     },
     "metadata": {},
     "output_type": "display_data"
    },
    {
     "data": {
      "application/vnd.jupyter.widget-view+json": {
       "model_id": "",
       "version_major": 2,
       "version_minor": 0
      },
      "text/plain": [
       "FloatProgress(value=0.0, bar_style='info', description='Progress:', layout=Layout(height='25px', width='50%'),…"
      ]
     },
     "metadata": {},
     "output_type": "display_data"
    },
    {
     "name": "stdout",
     "output_type": "stream",
     "text": [
      "Correlation to Ozone for  CO 0.10111684790089312\n",
      "Correlation to Ozone for  NO2 0.17134671055782777\n",
      "Correlation to Ozone for  SO2 0.08811528972667469\n",
      "Correlation to Ozone for  Ozone 1.0\n",
      "Correlation to Ozone for  PM10 0.38991830152065904\n",
      "Correlation to Ozone for  PM2 0.07065515504245704"
     ]
    }
   ],
   "source": [
    "# Check for Correlation\n",
    "for i in converted_df.columns:\n",
    "    if not(isinstance(converted_df.select(i).take(1)[0][0], six.string_types)):\n",
    "        print(\"Correlation to Ozone for \", i, converted_df.stat.corr(\"Ozone\",i))"
   ]
  },
  {
   "cell_type": "code",
   "execution_count": 8,
   "metadata": {},
   "outputs": [
    {
     "data": {
      "application/vnd.jupyter.widget-view+json": {
       "model_id": "18cd618e98954f4f96165aa9e62c9f48",
       "version_major": 2,
       "version_minor": 0
      },
      "text/plain": [
       "VBox()"
      ]
     },
     "metadata": {},
     "output_type": "display_data"
    },
    {
     "data": {
      "application/vnd.jupyter.widget-view+json": {
       "model_id": "",
       "version_major": 2,
       "version_minor": 0
      },
      "text/plain": [
       "FloatProgress(value=0.0, bar_style='info', description='Progress:', layout=Layout(height='25px', width='50%'),…"
      ]
     },
     "metadata": {},
     "output_type": "display_data"
    },
    {
     "name": "stdout",
     "output_type": "stream",
     "text": [
      "+--------------------+-----+\n",
      "|            features|Ozone|\n",
      "+--------------------+-----+\n",
      "|[0.2,0.0163000000...|0.027|\n",
      "|[0.2,0.0150999999...|0.027|\n",
      "|[0.2,0.0153000000...|0.027|\n",
      "|[0.2,0.0167,3.0E-...|0.029|\n",
      "|[0.4,0.0355,0.001...|0.023|\n",
      "|[0.4,0.0344,0.001...|0.019|\n",
      "|[0.4,0.0394,0.003...|0.025|\n",
      "|[0.3,0.0212,0.001...|0.016|\n",
      "|[0.4,0.0238,6.0E-...|0.017|\n",
      "|[0.2,0.0168000000...|0.027|\n",
      "+--------------------+-----+\n",
      "only showing top 10 rows"
     ]
    }
   ],
   "source": [
    "# Prepare Data For Linear Regression by defining features and labels\n",
    "assembled_vector = VectorAssembler(inputCols = [\"CO\",\"NO2\",\"SO2\",\"PM10\",\"PM2\"], outputCol = \"features\")\n",
    "vec_ozone_df = assembled_vector.transform(converted_df)\n",
    "vec_ozone_df = vec_ozone_df.select(['features','Ozone'])\n",
    "vec_ozone_df.show(10)"
   ]
  },
  {
   "cell_type": "code",
   "execution_count": 9,
   "metadata": {},
   "outputs": [
    {
     "data": {
      "application/vnd.jupyter.widget-view+json": {
       "model_id": "e8c2f3a20b624acbb9404cd66f1c0aec",
       "version_major": 2,
       "version_minor": 0
      },
      "text/plain": [
       "VBox()"
      ]
     },
     "metadata": {},
     "output_type": "display_data"
    },
    {
     "data": {
      "application/vnd.jupyter.widget-view+json": {
       "model_id": "",
       "version_major": 2,
       "version_minor": 0
      },
      "text/plain": [
       "FloatProgress(value=0.0, bar_style='info', description='Progress:', layout=Layout(height='25px', width='50%'),…"
      ]
     },
     "metadata": {},
     "output_type": "display_data"
    }
   ],
   "source": [
    "# Randomly Split Data for Training and Testing\n",
    "split_df = vec_ozone_df.randomSplit([0.7, 0.3])\n",
    "train_df = split_df[0]\n",
    "test_df = split_df[1]"
   ]
  },
  {
   "cell_type": "code",
   "execution_count": 10,
   "metadata": {},
   "outputs": [
    {
     "data": {
      "application/vnd.jupyter.widget-view+json": {
       "model_id": "033bcd2e3d2346f092c834843816aacb",
       "version_major": 2,
       "version_minor": 0
      },
      "text/plain": [
       "VBox()"
      ]
     },
     "metadata": {},
     "output_type": "display_data"
    },
    {
     "data": {
      "application/vnd.jupyter.widget-view+json": {
       "model_id": "",
       "version_major": 2,
       "version_minor": 0
      },
      "text/plain": [
       "FloatProgress(value=0.0, bar_style='info', description='Progress:', layout=Layout(height='25px', width='50%'),…"
      ]
     },
     "metadata": {},
     "output_type": "display_data"
    },
    {
     "name": "stdout",
     "output_type": "stream",
     "text": [
      "Coefficients: [0.0,0.0,0.0,0.0,0.0]\n",
      "Intercept: 0.037045778229908406"
     ]
    }
   ],
   "source": [
    "# Create Linear Regression Model with Training Data\n",
    "linear_reg = LinearRegression(featuresCol = 'features', labelCol = 'Ozone', maxIter=10, regParam=0.3, elasticNetParam=0.8)\n",
    "lr_model = linear_reg.fit(train_df)\n",
    "print(\"Coefficients: \" + str(lr_model.coefficients))\n",
    "print(\"Intercept: \" + str(lr_model.intercept))"
   ]
  },
  {
   "cell_type": "code",
   "execution_count": 11,
   "metadata": {},
   "outputs": [
    {
     "data": {
      "application/vnd.jupyter.widget-view+json": {
       "model_id": "9dbb77e1708c4905a8f2ca80c9182f87",
       "version_major": 2,
       "version_minor": 0
      },
      "text/plain": [
       "VBox()"
      ]
     },
     "metadata": {},
     "output_type": "display_data"
    },
    {
     "data": {
      "application/vnd.jupyter.widget-view+json": {
       "model_id": "",
       "version_major": 2,
       "version_minor": 0
      },
      "text/plain": [
       "FloatProgress(value=0.0, bar_style='info', description='Progress:', layout=Layout(height='25px', width='50%'),…"
      ]
     },
     "metadata": {},
     "output_type": "display_data"
    },
    {
     "name": "stdout",
     "output_type": "stream",
     "text": [
      "RMSE: 0.012734\n",
      "r2: 0.000000"
     ]
    }
   ],
   "source": [
    "# Check RMSE and R-Squared Values\n",
    "trainingSummary = lr_model.summary\n",
    "print(\"RMSE: %f\" % trainingSummary.rootMeanSquaredError)\n",
    "print(\"r2: %f\" % trainingSummary.r2)"
   ]
  },
  {
   "cell_type": "code",
   "execution_count": 12,
   "metadata": {},
   "outputs": [
    {
     "data": {
      "application/vnd.jupyter.widget-view+json": {
       "model_id": "c830254143c2410f845f3a66bb18aaff",
       "version_major": 2,
       "version_minor": 0
      },
      "text/plain": [
       "VBox()"
      ]
     },
     "metadata": {},
     "output_type": "display_data"
    },
    {
     "data": {
      "application/vnd.jupyter.widget-view+json": {
       "model_id": "",
       "version_major": 2,
       "version_minor": 0
      },
      "text/plain": [
       "FloatProgress(value=0.0, bar_style='info', description='Progress:', layout=Layout(height='25px', width='50%'),…"
      ]
     },
     "metadata": {},
     "output_type": "display_data"
    },
    {
     "name": "stdout",
     "output_type": "stream",
     "text": [
      "+-------+--------------------+\n",
      "|summary|               Ozone|\n",
      "+-------+--------------------+\n",
      "|  count|                 983|\n",
      "|   mean|0.037045778229908406|\n",
      "| stddev|0.012740594549318196|\n",
      "|    min|               0.005|\n",
      "|    max|               0.074|\n",
      "+-------+--------------------+"
     ]
    }
   ],
   "source": [
    "# Describe Training Set\n",
    "train_df.describe().show()"
   ]
  },
  {
   "cell_type": "code",
   "execution_count": null,
   "metadata": {},
   "outputs": [],
   "source": []
  }
 ],
 "metadata": {
  "kernelspec": {
   "display_name": "PySpark",
   "language": "",
   "name": "pysparkkernel"
  },
  "language_info": {
   "codemirror_mode": {
    "name": "python",
    "version": 2
   },
   "mimetype": "text/x-python",
   "name": "pyspark",
   "pygments_lexer": "python2"
  }
 },
 "nbformat": 4,
 "nbformat_minor": 4
}
