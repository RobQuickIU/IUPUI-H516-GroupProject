{
 "cells": [
  {
   "cell_type": "code",
   "execution_count": 41,
   "metadata": {},
   "outputs": [
    {
     "data": {
      "application/vnd.jupyter.widget-view+json": {
       "model_id": "a74bdd305fae4047a2be9d51def7438f",
       "version_major": 2,
       "version_minor": 0
      },
      "text/plain": [
       "VBox()"
      ]
     },
     "metadata": {},
     "output_type": "display_data"
    },
    {
     "data": {
      "application/vnd.jupyter.widget-view+json": {
       "model_id": "",
       "version_major": 2,
       "version_minor": 0
      },
      "text/plain": [
       "FloatProgress(value=0.0, bar_style='info', description='Progress:', layout=Layout(height='25px', width='50%'),…"
      ]
     },
     "metadata": {},
     "output_type": "display_data"
    }
   ],
   "source": [
    "from pyspark.sql.functions import isnan, when, count, col\n",
    "from pyspark.sql.functions import col, asc\n",
    "from pyspark.sql.types import FloatType"
   ]
  },
  {
   "cell_type": "markdown",
   "metadata": {},
   "source": [
    "### Reading the data for CO (Carbon Monoxide Pollutant) "
   ]
  },
  {
   "cell_type": "code",
   "execution_count": 42,
   "metadata": {},
   "outputs": [
    {
     "data": {
      "application/vnd.jupyter.widget-view+json": {
       "model_id": "af5f7fd9e2e3425fbcb984d0297fc0f1",
       "version_major": 2,
       "version_minor": 0
      },
      "text/plain": [
       "VBox()"
      ]
     },
     "metadata": {},
     "output_type": "display_data"
    },
    {
     "data": {
      "application/vnd.jupyter.widget-view+json": {
       "model_id": "",
       "version_major": 2,
       "version_minor": 0
      },
      "text/plain": [
       "FloatProgress(value=0.0, bar_style='info', description='Progress:', layout=Layout(height='25px', width='50%'),…"
      ]
     },
     "metadata": {},
     "output_type": "display_data"
    }
   ],
   "source": [
    "CO = spark.read.csv('s3://aws-emr-resources-809118582415-us-east-2/CO/*',inferSchema=True,header=True,nullValue=True)"
   ]
  },
  {
   "cell_type": "markdown",
   "metadata": {},
   "source": [
    "Viewing different sites in the dataset"
   ]
  },
  {
   "cell_type": "code",
   "execution_count": 43,
   "metadata": {},
   "outputs": [
    {
     "data": {
      "application/vnd.jupyter.widget-view+json": {
       "model_id": "c1bb69f2d5c84b4fb84173360fcc03a5",
       "version_major": 2,
       "version_minor": 0
      },
      "text/plain": [
       "VBox()"
      ]
     },
     "metadata": {},
     "output_type": "display_data"
    },
    {
     "data": {
      "application/vnd.jupyter.widget-view+json": {
       "model_id": "",
       "version_major": 2,
       "version_minor": 0
      },
      "text/plain": [
       "FloatProgress(value=0.0, bar_style='info', description='Progress:', layout=Layout(height='25px', width='50%'),…"
      ]
     },
     "metadata": {},
     "output_type": "display_data"
    },
    {
     "name": "stdout",
     "output_type": "stream",
     "text": [
      "+--------------------+\n",
      "|           Site Name|\n",
      "+--------------------+\n",
      "|Indpls.- Illinois...|\n",
      "|Indpls- Washingto...|\n",
      "|       Indpls.- I 70|\n",
      "+--------------------+"
     ]
    }
   ],
   "source": [
    "CO.select(\"Site Name\").distinct().show()"
   ]
  },
  {
   "cell_type": "markdown",
   "metadata": {},
   "source": [
    "Selecting the site lying in Marion County"
   ]
  },
  {
   "cell_type": "code",
   "execution_count": null,
   "metadata": {},
   "outputs": [],
   "source": [
    "CO = CO.where((col(\"Site Name\") == 'Indpls- Washington Park/  in parking lot next to police station') & (col(\"STATE\") == 'Indiana') & (col(\"COUNTY\") == 'Marion'))"
   ]
  },
  {
   "cell_type": "markdown",
   "metadata": {},
   "source": [
    "Dropping the columns which we would not use for analysis"
   ]
  },
  {
   "cell_type": "code",
   "execution_count": 51,
   "metadata": {},
   "outputs": [
    {
     "data": {
      "application/vnd.jupyter.widget-view+json": {
       "model_id": "851ef81326d24a3cae5d409d857d987f",
       "version_major": 2,
       "version_minor": 0
      },
      "text/plain": [
       "VBox()"
      ]
     },
     "metadata": {},
     "output_type": "display_data"
    },
    {
     "data": {
      "application/vnd.jupyter.widget-view+json": {
       "model_id": "",
       "version_major": 2,
       "version_minor": 0
      },
      "text/plain": [
       "FloatProgress(value=0.0, bar_style='info', description='Progress:', layout=Layout(height='25px', width='50%'),…"
      ]
     },
     "metadata": {},
     "output_type": "display_data"
    }
   ],
   "source": [
    "columns_to_drop=['Source','POC','DAILY_OBS_COUNT','AQS_PARAMETER_CODE','AQS_PARAMETER_DESC','CBSA_CODE','CBSA_NAME','SITE_LATITUDE',\n",
    "                'SITE_LONGITUDE','PERCENT_COMPLETE','DAILY_AQI_VALUE','STATE','COUNTY','DAILY_AQI_VALUE','STATE_CODE','COUNTY_CODE']\n",
    "\n",
    "CO = CO.drop(*columns_to_drop)"
   ]
  },
  {
   "cell_type": "markdown",
   "metadata": {},
   "source": [
    "Checking the null values in each column"
   ]
  },
  {
   "cell_type": "code",
   "execution_count": null,
   "metadata": {},
   "outputs": [],
   "source": [
    "CO.select([count(when(isnan(c) | col(c).isNull(), c)).alias(c) for c in CO.columns]).show()"
   ]
  },
  {
   "cell_type": "code",
   "execution_count": 45,
   "metadata": {},
   "outputs": [
    {
     "data": {
      "application/vnd.jupyter.widget-view+json": {
       "model_id": "11388e60355a4290aa4a76c1e0b58cad",
       "version_major": 2,
       "version_minor": 0
      },
      "text/plain": [
       "VBox()"
      ]
     },
     "metadata": {},
     "output_type": "display_data"
    },
    {
     "data": {
      "application/vnd.jupyter.widget-view+json": {
       "model_id": "",
       "version_major": 2,
       "version_minor": 0
      },
      "text/plain": [
       "FloatProgress(value=0.0, bar_style='info', description='Progress:', layout=Layout(height='25px', width='50%'),…"
      ]
     },
     "metadata": {},
     "output_type": "display_data"
    },
    {
     "name": "stdout",
     "output_type": "stream",
     "text": [
      "+----------+---------+---------------------------------+-----+--------------------+\n",
      "|      Date|  Site ID|Daily Max 8-hour CO Concentration|UNITS|           Site Name|\n",
      "+----------+---------+---------------------------------+-----+--------------------+\n",
      "|01/01/2016|180970072|                              0.4|  ppm|Indpls.- Illinois...|\n",
      "|01/02/2016|180970072|                              0.7|  ppm|Indpls.- Illinois...|\n",
      "|01/03/2016|180970072|                              0.9|  ppm|Indpls.- Illinois...|\n",
      "+----------+---------+---------------------------------+-----+--------------------+\n",
      "only showing top 3 rows"
     ]
    }
   ],
   "source": [
    "CO.show(3)"
   ]
  },
  {
   "cell_type": "markdown",
   "metadata": {},
   "source": [
    "### Reading the data for NO2 (Nitrogen Dioxide Pollutant)"
   ]
  },
  {
   "cell_type": "code",
   "execution_count": 46,
   "metadata": {},
   "outputs": [
    {
     "data": {
      "application/vnd.jupyter.widget-view+json": {
       "model_id": "e3a769cf11a04ee6aa623cdeba596a92",
       "version_major": 2,
       "version_minor": 0
      },
      "text/plain": [
       "VBox()"
      ]
     },
     "metadata": {},
     "output_type": "display_data"
    },
    {
     "data": {
      "application/vnd.jupyter.widget-view+json": {
       "model_id": "",
       "version_major": 2,
       "version_minor": 0
      },
      "text/plain": [
       "FloatProgress(value=0.0, bar_style='info', description='Progress:', layout=Layout(height='25px', width='50%'),…"
      ]
     },
     "metadata": {},
     "output_type": "display_data"
    }
   ],
   "source": [
    "NO2=spark.read.csv('s3://aws-emr-resources-809118582415-us-east-2/N02/*',inferSchema=True,header=True,nullValue=True)"
   ]
  },
  {
   "cell_type": "markdown",
   "metadata": {},
   "source": [
    "Distinct sites in Indianapolis"
   ]
  },
  {
   "cell_type": "code",
   "execution_count": 47,
   "metadata": {},
   "outputs": [
    {
     "data": {
      "application/vnd.jupyter.widget-view+json": {
       "model_id": "763ffc013a984071ae4ee7270bc4302d",
       "version_major": 2,
       "version_minor": 0
      },
      "text/plain": [
       "VBox()"
      ]
     },
     "metadata": {},
     "output_type": "display_data"
    },
    {
     "data": {
      "application/vnd.jupyter.widget-view+json": {
       "model_id": "",
       "version_major": 2,
       "version_minor": 0
      },
      "text/plain": [
       "FloatProgress(value=0.0, bar_style='info', description='Progress:', layout=Layout(height='25px', width='50%'),…"
      ]
     },
     "metadata": {},
     "output_type": "display_data"
    },
    {
     "name": "stdout",
     "output_type": "stream",
     "text": [
      "+--------------------+\n",
      "|           Site Name|\n",
      "+--------------------+\n",
      "|Indpls- Washingto...|\n",
      "|       Indpls.- I 70|\n",
      "+--------------------+"
     ]
    }
   ],
   "source": [
    "NO2.select(\"Site Name\").distinct().show()"
   ]
  },
  {
   "cell_type": "markdown",
   "metadata": {},
   "source": [
    "Selecting the site lying in the Marion County"
   ]
  },
  {
   "cell_type": "code",
   "execution_count": 48,
   "metadata": {},
   "outputs": [
    {
     "data": {
      "application/vnd.jupyter.widget-view+json": {
       "model_id": "bd30f380cb21436692f7bf4de4b59f3a",
       "version_major": 2,
       "version_minor": 0
      },
      "text/plain": [
       "VBox()"
      ]
     },
     "metadata": {},
     "output_type": "display_data"
    },
    {
     "data": {
      "application/vnd.jupyter.widget-view+json": {
       "model_id": "",
       "version_major": 2,
       "version_minor": 0
      },
      "text/plain": [
       "FloatProgress(value=0.0, bar_style='info', description='Progress:', layout=Layout(height='25px', width='50%'),…"
      ]
     },
     "metadata": {},
     "output_type": "display_data"
    }
   ],
   "source": [
    "NO2 = NO2.where((col(\"Site Name\") == 'Indpls- Washington Park/  in parking lot next to police station') & (col(\"STATE\") == 'Indiana') & (col(\"COUNTY\") == 'Marion'))"
   ]
  },
  {
   "cell_type": "markdown",
   "metadata": {},
   "source": [
    "Dropping the columns we would not be using for analysis"
   ]
  },
  {
   "cell_type": "code",
   "execution_count": 49,
   "metadata": {},
   "outputs": [
    {
     "data": {
      "application/vnd.jupyter.widget-view+json": {
       "model_id": "f5078ed38dea4f62a14c147c6effc113",
       "version_major": 2,
       "version_minor": 0
      },
      "text/plain": [
       "VBox()"
      ]
     },
     "metadata": {},
     "output_type": "display_data"
    },
    {
     "data": {
      "application/vnd.jupyter.widget-view+json": {
       "model_id": "",
       "version_major": 2,
       "version_minor": 0
      },
      "text/plain": [
       "FloatProgress(value=0.0, bar_style='info', description='Progress:', layout=Layout(height='25px', width='50%'),…"
      ]
     },
     "metadata": {},
     "output_type": "display_data"
    }
   ],
   "source": [
    "columns_to_drop=['Source','POC','DAILY_OBS_COUNT','AQS_PARAMETER_CODE','AQS_PARAMETER_DESC','CBSA_CODE','CBSA_NAME','SITE_LATITUDE',\n",
    "                'SITE_LONGITUDE','PERCENT_COMPLETE','DAILY_AQI_VALUE','STATE','COUNTY','DAILY_AQI_VALUE','STATE_CODE','COUNTY_CODE']\n",
    "\n",
    "NO2=NO2.drop(*columns_to_drop)"
   ]
  },
  {
   "cell_type": "markdown",
   "metadata": {},
   "source": [
    "Checking the null values in each column"
   ]
  },
  {
   "cell_type": "code",
   "execution_count": 52,
   "metadata": {},
   "outputs": [
    {
     "data": {
      "application/vnd.jupyter.widget-view+json": {
       "model_id": "c8f702755a044cad99b75245373f8119",
       "version_major": 2,
       "version_minor": 0
      },
      "text/plain": [
       "VBox()"
      ]
     },
     "metadata": {},
     "output_type": "display_data"
    },
    {
     "data": {
      "application/vnd.jupyter.widget-view+json": {
       "model_id": "",
       "version_major": 2,
       "version_minor": 0
      },
      "text/plain": [
       "FloatProgress(value=0.0, bar_style='info', description='Progress:', layout=Layout(height='25px', width='50%'),…"
      ]
     },
     "metadata": {},
     "output_type": "display_data"
    },
    {
     "name": "stdout",
     "output_type": "stream",
     "text": [
      "+----+-------+----------------------------------+-----+---------+\n",
      "|Date|Site ID|Daily Max 1-hour NO2 Concentration|UNITS|Site Name|\n",
      "+----+-------+----------------------------------+-----+---------+\n",
      "|   0|      0|                                 0|    0|        0|\n",
      "+----+-------+----------------------------------+-----+---------+"
     ]
    }
   ],
   "source": [
    "NO2.select([count(when(isnan(c) | col(c).isNull(), c)).alias(c) for c in NO2.columns]).show()"
   ]
  },
  {
   "cell_type": "code",
   "execution_count": 50,
   "metadata": {},
   "outputs": [
    {
     "data": {
      "application/vnd.jupyter.widget-view+json": {
       "model_id": "79b9e461d5f5400ebf030f3eb56dbbff",
       "version_major": 2,
       "version_minor": 0
      },
      "text/plain": [
       "VBox()"
      ]
     },
     "metadata": {},
     "output_type": "display_data"
    },
    {
     "data": {
      "application/vnd.jupyter.widget-view+json": {
       "model_id": "",
       "version_major": 2,
       "version_minor": 0
      },
      "text/plain": [
       "FloatProgress(value=0.0, bar_style='info', description='Progress:', layout=Layout(height='25px', width='50%'),…"
      ]
     },
     "metadata": {},
     "output_type": "display_data"
    },
    {
     "name": "stdout",
     "output_type": "stream",
     "text": [
      "+----------+---------+----------------------------------+-----+--------------------+\n",
      "|      Date|  Site ID|Daily Max 1-hour NO2 Concentration|UNITS|           Site Name|\n",
      "+----------+---------+----------------------------------+-----+--------------------+\n",
      "|01/01/2017|180970078|                              25.5|  ppb|Indpls- Washingto...|\n",
      "|01/02/2017|180970078|                              14.6|  ppb|Indpls- Washingto...|\n",
      "|01/03/2017|180970078|                              16.8|  ppb|Indpls- Washingto...|\n",
      "+----------+---------+----------------------------------+-----+--------------------+\n",
      "only showing top 3 rows"
     ]
    }
   ],
   "source": [
    "NO2.show(3)"
   ]
  },
  {
   "cell_type": "markdown",
   "metadata": {},
   "source": [
    "### Reading the data for SO2 (Sulphur Dioxide) Pollutant"
   ]
  },
  {
   "cell_type": "code",
   "execution_count": 54,
   "metadata": {},
   "outputs": [
    {
     "data": {
      "application/vnd.jupyter.widget-view+json": {
       "model_id": "ce7effbe51be438dba0bd81490a09dec",
       "version_major": 2,
       "version_minor": 0
      },
      "text/plain": [
       "VBox()"
      ]
     },
     "metadata": {},
     "output_type": "display_data"
    },
    {
     "data": {
      "application/vnd.jupyter.widget-view+json": {
       "model_id": "",
       "version_major": 2,
       "version_minor": 0
      },
      "text/plain": [
       "FloatProgress(value=0.0, bar_style='info', description='Progress:', layout=Layout(height='25px', width='50%'),…"
      ]
     },
     "metadata": {},
     "output_type": "display_data"
    }
   ],
   "source": [
    "SO2=spark.read.csv('s3://aws-emr-resources-809118582415-us-east-2/SO2/*',inferSchema=True,header=True,nullValue=True)"
   ]
  },
  {
   "cell_type": "markdown",
   "metadata": {},
   "source": [
    "Viewing different sites of Indianapolis"
   ]
  },
  {
   "cell_type": "code",
   "execution_count": null,
   "metadata": {},
   "outputs": [
    {
     "data": {
      "application/vnd.jupyter.widget-view+json": {
       "model_id": "51fd77b643a1422683d93833324b0aa4",
       "version_major": 2,
       "version_minor": 0
      },
      "text/plain": [
       "VBox()"
      ]
     },
     "metadata": {},
     "output_type": "display_data"
    },
    {
     "data": {
      "application/vnd.jupyter.widget-view+json": {
       "model_id": "ae9b17136e01459c8715ca463b2f244d",
       "version_major": 2,
       "version_minor": 0
      },
      "text/plain": [
       "FloatProgress(value=0.0, bar_style='info', description='Progress:', layout=Layout(height='25px', width='50%'),…"
      ]
     },
     "metadata": {},
     "output_type": "display_data"
    }
   ],
   "source": [
    "SO2.select(\"Site Name\").distinct().show()"
   ]
  },
  {
   "cell_type": "markdown",
   "metadata": {},
   "source": [
    "Selecting sites of Marion County"
   ]
  },
  {
   "cell_type": "code",
   "execution_count": null,
   "metadata": {},
   "outputs": [],
   "source": [
    "SO2 = SO2.where((col(\"Site Name\") == 'Indpls- Washington Park/  in parking lot next to police station') & (col(\"STATE\") == 'Indiana') & (col(\"COUNTY\") == 'Marion'))"
   ]
  },
  {
   "cell_type": "markdown",
   "metadata": {},
   "source": [
    "Dropping the columns we would not be using for analysis"
   ]
  },
  {
   "cell_type": "code",
   "execution_count": null,
   "metadata": {},
   "outputs": [],
   "source": [
    "columns_to_drop=['Source','POC','DAILY_OBS_COUNT','AQS_PARAMETER_CODE','AQS_PARAMETER_DESC','CBSA_CODE','CBSA_NAME','SITE_LATITUDE',\n",
    "                'SITE_LONGITUDE','PERCENT_COMPLETE','DAILY_AQI_VALUE','STATE','COUNTY','DAILY_AQI_VALUE','STATE_CODE','COUNTY_CODE']\n",
    "\n",
    "SO2=SO2.drop(*columns_to_drop)"
   ]
  },
  {
   "cell_type": "markdown",
   "metadata": {},
   "source": [
    "Checking the null values in each column"
   ]
  },
  {
   "cell_type": "code",
   "execution_count": null,
   "metadata": {},
   "outputs": [],
   "source": [
    "SO2.select([count(when(isnan(c) | col(c).isNull(), c)).alias(c) for c in SO2.columns]).show()"
   ]
  },
  {
   "cell_type": "code",
   "execution_count": null,
   "metadata": {},
   "outputs": [],
   "source": [
    "SO2.show(3)"
   ]
  },
  {
   "cell_type": "markdown",
   "metadata": {},
   "source": [
    "### Reading the data for Ozone Pollutant"
   ]
  },
  {
   "cell_type": "code",
   "execution_count": null,
   "metadata": {},
   "outputs": [],
   "source": [
    "Ozone=spark.read.csv('s3://aws-emr-resources-809118582415-us-east-2/Ozone/*',inferSchema=True,header=True,nullValue=True)"
   ]
  },
  {
   "cell_type": "markdown",
   "metadata": {},
   "source": [
    "Viewing different sites of Indianapolis"
   ]
  },
  {
   "cell_type": "code",
   "execution_count": null,
   "metadata": {},
   "outputs": [],
   "source": [
    "Ozone.select(\"Site Name\").distinct().show()"
   ]
  },
  {
   "cell_type": "markdown",
   "metadata": {},
   "source": [
    "Selecting sites of Marion County"
   ]
  },
  {
   "cell_type": "code",
   "execution_count": null,
   "metadata": {},
   "outputs": [],
   "source": [
    "Ozone = Ozone.where((col(\"Site Name\") == 'Indpls- Washington Park/  in parking lot next to police station') & (col(\"STATE\") == 'Indiana') & (col(\"COUNTY\") == 'Marion'))"
   ]
  },
  {
   "cell_type": "markdown",
   "metadata": {},
   "source": [
    "Dropping columns which we would not be using for analysis"
   ]
  },
  {
   "cell_type": "code",
   "execution_count": null,
   "metadata": {},
   "outputs": [],
   "source": [
    "columns_to_drop=['Source','POC','DAILY_OBS_COUNT','AQS_PARAMETER_CODE','AQS_PARAMETER_DESC','CBSA_CODE','CBSA_NAME','SITE_LATITUDE',\n",
    "                'SITE_LONGITUDE','PERCENT_COMPLETE','DAILY_AQI_VALUE','STATE','COUNTY','DAILY_AQI_VALUE','STATE_CODE','COUNTY_CODE']\n",
    "\n",
    "Ozone = Ozone.drop(*columns_to_drop)"
   ]
  },
  {
   "cell_type": "markdown",
   "metadata": {},
   "source": [
    "Checking the Null values in each column"
   ]
  },
  {
   "cell_type": "code",
   "execution_count": null,
   "metadata": {},
   "outputs": [],
   "source": [
    "Ozone.select([count(when(isnan(c) | col(c).isNull(), c)).alias(c) for c in Ozone.columns]).show()"
   ]
  },
  {
   "cell_type": "code",
   "execution_count": null,
   "metadata": {},
   "outputs": [],
   "source": [
    "Ozone.show(3)"
   ]
  },
  {
   "cell_type": "code",
   "execution_count": null,
   "metadata": {},
   "outputs": [],
   "source": [
    "PM10=spark.read.csv('s3://aws-emr-resources-809118582415-us-east-2/PM10/*',inferSchema=True,header=True,nullValue=True)"
   ]
  },
  {
   "cell_type": "markdown",
   "metadata": {},
   "source": [
    "Viewing different sites of Indianapolis"
   ]
  },
  {
   "cell_type": "code",
   "execution_count": null,
   "metadata": {},
   "outputs": [],
   "source": [
    "PM10.select(\"Site Name\").distinct().show()"
   ]
  },
  {
   "cell_type": "markdown",
   "metadata": {},
   "source": [
    "Selecting the sites of Marion County"
   ]
  },
  {
   "cell_type": "code",
   "execution_count": null,
   "metadata": {},
   "outputs": [],
   "source": [
    "PM10 = PM10.where((col(\"Site Name\") == 'Indpls- Washington Park/  in parking lot next to police station') & (col(\"STATE\") == 'Indiana') & (col(\"COUNTY\") == 'Marion'))"
   ]
  },
  {
   "cell_type": "markdown",
   "metadata": {},
   "source": [
    "Dropping the columns which we would not use for analysis"
   ]
  },
  {
   "cell_type": "code",
   "execution_count": null,
   "metadata": {},
   "outputs": [],
   "source": [
    "columns_to_drop=['Source','POC','DAILY_OBS_COUNT','AQS_PARAMETER_CODE','AQS_PARAMETER_DESC','CBSA_CODE','CBSA_NAME','SITE_LATITUDE',\n",
    "                'SITE_LONGITUDE','PERCENT_COMPLETE','DAILY_AQI_VALUE','STATE','COUNTY','DAILY_AQI_VALUE','STATE_CODE','COUNTY_CODE']\n",
    "\n",
    "PM10 = PM10.drop(*columns_to_drop)"
   ]
  },
  {
   "cell_type": "markdown",
   "metadata": {},
   "source": [
    "Checking the Nulls in each column"
   ]
  },
  {
   "cell_type": "code",
   "execution_count": null,
   "metadata": {},
   "outputs": [],
   "source": [
    "PM10.select([count(when(isnan(c) | col(c).isNull(), c)).alias(c) for c in PM10.columns]).show()"
   ]
  },
  {
   "cell_type": "markdown",
   "metadata": {},
   "source": [
    "Dropping the duplicate rows "
   ]
  },
  {
   "cell_type": "code",
   "execution_count": null,
   "metadata": {},
   "outputs": [],
   "source": [
    "PM10 = PM10.dropDuplicates(['Date'])"
   ]
  },
  {
   "cell_type": "code",
   "execution_count": null,
   "metadata": {},
   "outputs": [],
   "source": [
    "PM10.show(3)"
   ]
  },
  {
   "cell_type": "code",
   "execution_count": null,
   "metadata": {},
   "outputs": [],
   "source": [
    "PM25=spark.read.csv('s3://aws-emr-resources-809118582415-us-east-2/PM2.5/*',inferSchema=True,header=True,nullValue=True)"
   ]
  },
  {
   "cell_type": "markdown",
   "metadata": {},
   "source": [
    "Viewing different sites of Indianapolis"
   ]
  },
  {
   "cell_type": "code",
   "execution_count": null,
   "metadata": {},
   "outputs": [],
   "source": [
    "PM25.select(\"Site Name\").distinct().show()"
   ]
  },
  {
   "cell_type": "markdown",
   "metadata": {},
   "source": [
    "Selecting the sites of Marion County"
   ]
  },
  {
   "cell_type": "code",
   "execution_count": null,
   "metadata": {},
   "outputs": [],
   "source": [
    "PM25 = PM25.where((col(\"Site Name\") == 'Indpls- Washington Park/  in parking lot next to police station') & (col(\"STATE\") == 'Indiana') & (col(\"COUNTY\") == 'Marion'))"
   ]
  },
  {
   "cell_type": "markdown",
   "metadata": {},
   "source": [
    "Dropping the columns which we would not be using for analysis"
   ]
  },
  {
   "cell_type": "code",
   "execution_count": null,
   "metadata": {},
   "outputs": [],
   "source": [
    "columns_to_drop=['Source','POC','DAILY_OBS_COUNT','AQS_PARAMETER_CODE','AQS_PARAMETER_DESC','CBSA_CODE','CBSA_NAME','SITE_LATITUDE',\n",
    "                'SITE_LONGITUDE','PERCENT_COMPLETE','DAILY_AQI_VALUE','STATE','COUNTY','DAILY_AQI_VALUE','STATE_CODE','COUNTY_CODE']\n",
    "\n",
    "PM25 = PM25.drop(*columns_to_drop)"
   ]
  },
  {
   "cell_type": "markdown",
   "metadata": {},
   "source": [
    "Dropping the duplicate rows"
   ]
  },
  {
   "cell_type": "code",
   "execution_count": null,
   "metadata": {},
   "outputs": [],
   "source": [
    "PM25 = PM25.dropDuplicates(['Date'])"
   ]
  },
  {
   "cell_type": "markdown",
   "metadata": {},
   "source": [
    "At this point we have loaded the datasets of different pollutants, selected only the sites lying in the marion county, checked the number of null values in each column, dropped columns and removed duplicates.\n",
    "\n",
    "Now we will join all of these datasets together on \"Date\" so that we can get teh readings of all the pollutants date wise "
   ]
  },
  {
   "cell_type": "code",
   "execution_count": null,
   "metadata": {},
   "outputs": [],
   "source": [
    "Data = CO.join(NO2, [\"Date\"],\"inner\")\n",
    "Data = Data.join(SO2, [\"Date\"],\"inner\")\n",
    "Data = Data.join(Ozone, [\"Date\"],\"inner\")\n",
    "Data = Data.join(PM10, [\"Date\"],\"inner\")\n",
    "Data = Data.join(PM25, [\"Date\"],\"inner\")"
   ]
  },
  {
   "cell_type": "markdown",
   "metadata": {},
   "source": [
    "We will drop the Site ID and Site Name as it does not add any value to perform analysis"
   ]
  },
  {
   "cell_type": "code",
   "execution_count": 21,
   "metadata": {},
   "outputs": [
    {
     "data": {
      "application/vnd.jupyter.widget-view+json": {
       "model_id": "285a1fd301d247e29f08702a8355b6c0",
       "version_major": 2,
       "version_minor": 0
      },
      "text/plain": [
       "VBox()"
      ]
     },
     "metadata": {},
     "output_type": "display_data"
    },
    {
     "data": {
      "application/vnd.jupyter.widget-view+json": {
       "model_id": "",
       "version_major": 2,
       "version_minor": 0
      },
      "text/plain": [
       "FloatProgress(value=0.0, bar_style='info', description='Progress:', layout=Layout(height='25px', width='50%'),…"
      ]
     },
     "metadata": {},
     "output_type": "display_data"
    }
   ],
   "source": [
    "columns = ['Site ID','Site Name']\n",
    "Data=Data.drop(*columns)"
   ]
  },
  {
   "cell_type": "markdown",
   "metadata": {},
   "source": [
    "Renaming the columns"
   ]
  },
  {
   "cell_type": "code",
   "execution_count": 36,
   "metadata": {},
   "outputs": [
    {
     "data": {
      "application/vnd.jupyter.widget-view+json": {
       "model_id": "5a88c709100343e4b94eb1982ffa0de2",
       "version_major": 2,
       "version_minor": 0
      },
      "text/plain": [
       "VBox()"
      ]
     },
     "metadata": {},
     "output_type": "display_data"
    },
    {
     "data": {
      "application/vnd.jupyter.widget-view+json": {
       "model_id": "",
       "version_major": 2,
       "version_minor": 0
      },
      "text/plain": [
       "FloatProgress(value=0.0, bar_style='info', description='Progress:', layout=Layout(height='25px', width='50%'),…"
      ]
     },
     "metadata": {},
     "output_type": "display_data"
    }
   ],
   "source": [
    "Data = Data.withColumnRenamed(\"Daily Max 8-hour CO Concentration\",\"CO\").withColumnRenamed(\"Daily Max 1-hour NO2 Concentration\",\"NO2\").withColumnRenamed(\"Daily Max 1-hour SO2 Concentration\",\"SO2\").withColumnRenamed(\"Daily Max 8-hour Ozone Concentration\",\"Ozone\").withColumnRenamed(\"Daily Mean PM10 Concentration\",\"PM10\").withColumnRenamed(\"Daily Mean PM2.5 Concentration\",\"PM25\")"
   ]
  },
  {
   "cell_type": "markdown",
   "metadata": {},
   "source": [
    "Since, different pollutants have different units. So, we convert all the dataframe columns into RDD to standardize them."
   ]
  },
  {
   "cell_type": "code",
   "execution_count": 38,
   "metadata": {},
   "outputs": [
    {
     "data": {
      "application/vnd.jupyter.widget-view+json": {
       "model_id": "df436014459c427c92720c56ebd7eb36",
       "version_major": 2,
       "version_minor": 0
      },
      "text/plain": [
       "VBox()"
      ]
     },
     "metadata": {},
     "output_type": "display_data"
    },
    {
     "data": {
      "application/vnd.jupyter.widget-view+json": {
       "model_id": "",
       "version_major": 2,
       "version_minor": 0
      },
      "text/plain": [
       "FloatProgress(value=0.0, bar_style='info', description='Progress:', layout=Layout(height='25px', width='50%'),…"
      ]
     },
     "metadata": {},
     "output_type": "display_data"
    }
   ],
   "source": [
    "DateRdd =  Data.select('Date').rdd.map(lambda x:x[0])\n",
    "CORdd = Data.select('CO').rdd.map(lambda x:x[0])\n",
    "NO2Rdd = Data.select('NO2').rdd.map(lambda x:x[0]).map(lambda x:x/1000)\n",
    "SO2Rdd = Data.select('SO2').rdd.map(lambda x:x[0]).map(lambda x:x/1000)\n",
    "OzoneRdd = Data.select('Ozone').rdd.map(lambda x:x[0])\n",
    "PM10Rdd = Data.select('PM10').rdd.map(lambda x:x[0]).map(lambda x:x/1000)\n",
    "PM2Rdd = Data.select('PM25').rdd.map(lambda x:x[0]).map(lambda x:x/1000)"
   ]
  },
  {
   "cell_type": "markdown",
   "metadata": {},
   "source": [
    "We convert this RDD into dataframe "
   ]
  },
  {
   "cell_type": "code",
   "execution_count": null,
   "metadata": {},
   "outputs": [],
   "source": [
    "DateCol=DateRdd.collect()\n",
    "COCol=CORdd.collect()\n",
    "NO2Col=NO2Rdd.collect()\n",
    "SO2Col=SO2Rdd.collect()\n",
    "OzoneCol = OzoneRdd.collect()\n",
    "PM10Col=PM10Rdd.collect()\n",
    "PM2Col =PM2Rdd.collect()\n",
    "\n",
    "dataFrame = sqlContext.createDataFrame(zip(DateCol,COCol,NO2Col,SO2Col,OzoneCol,PM10Col,PM2Col), schema=['DateCol','COCol','NO2Col', 'SO2Col','OzoneCol','PM10Col','PM2Col'])"
   ]
  },
  {
   "cell_type": "markdown",
   "metadata": {},
   "source": [
    "Renaming the columns "
   ]
  },
  {
   "cell_type": "code",
   "execution_count": 85,
   "metadata": {},
   "outputs": [
    {
     "data": {
      "application/vnd.jupyter.widget-view+json": {
       "model_id": "571ccb6d696b494c8e11f8a7067eb42d",
       "version_major": 2,
       "version_minor": 0
      },
      "text/plain": [
       "VBox()"
      ]
     },
     "metadata": {},
     "output_type": "display_data"
    },
    {
     "data": {
      "application/vnd.jupyter.widget-view+json": {
       "model_id": "",
       "version_major": 2,
       "version_minor": 0
      },
      "text/plain": [
       "FloatProgress(value=0.0, bar_style='info', description='Progress:', layout=Layout(height='25px', width='50%'),…"
      ]
     },
     "metadata": {},
     "output_type": "display_data"
    }
   ],
   "source": [
    "dataFrame = dataFrame.withColumnRenamed(\"DateCol\",\"Date\").withColumnRenamed(\"COCol\",\"CO\").withColumnRenamed(\"NO2Col\",\"NO2\").withColumnRenamed(\"SO2Col\",\"SO2\").withColumnRenamed(\"OzoneCol\",\"Ozone\").withColumnRenamed(\"PM10Col\",\"PM10\").withColumnRenamed(\"PM2Col\",\"PM2\")"
   ]
  },
  {
   "cell_type": "code",
   "execution_count": 86,
   "metadata": {},
   "outputs": [
    {
     "data": {
      "application/vnd.jupyter.widget-view+json": {
       "model_id": "55e11389510f449285750a412bc5d15a",
       "version_major": 2,
       "version_minor": 0
      },
      "text/plain": [
       "VBox()"
      ]
     },
     "metadata": {},
     "output_type": "display_data"
    },
    {
     "data": {
      "application/vnd.jupyter.widget-view+json": {
       "model_id": "",
       "version_major": 2,
       "version_minor": 0
      },
      "text/plain": [
       "FloatProgress(value=0.0, bar_style='info', description='Progress:', layout=Layout(height='25px', width='50%'),…"
      ]
     },
     "metadata": {},
     "output_type": "display_data"
    },
    {
     "name": "stdout",
     "output_type": "stream",
     "text": [
      "+----------+---+--------------------+--------------------+-----+-----+------+\n",
      "|      Date| CO|                 NO2|                 SO2|Ozone| PM10|   PM2|\n",
      "+----------+---+--------------------+--------------------+-----+-----+------+\n",
      "|01/01/2016|0.2|0.016300000000000002|0.002100000000000...|0.027|0.012|0.0114|\n",
      "+----------+---+--------------------+--------------------+-----+-----+------+\n",
      "only showing top 1 row"
     ]
    }
   ],
   "source": [
    "dataFrame.show(1)"
   ]
  },
  {
   "cell_type": "markdown",
   "metadata": {},
   "source": [
    "Converting the dataframe into CSV format to perform further analysis"
   ]
  },
  {
   "cell_type": "code",
   "execution_count": null,
   "metadata": {},
   "outputs": [],
   "source": [
    "dataFrame.repartition(1).write.format('com.databricks.spark.csv').save(\"s3://aws-emr-resources-809118582415-us-east-2/datasetProcessed\",header = 'true')"
   ]
  }
 ],
 "metadata": {
  "kernelspec": {
   "display_name": "PySpark",
   "language": "",
   "name": "pysparkkernel"
  },
  "language_info": {
   "codemirror_mode": {
    "name": "python",
    "version": 2
   },
   "mimetype": "text/x-python",
   "name": "pyspark",
   "pygments_lexer": "python2"
  }
 },
 "nbformat": 4,
 "nbformat_minor": 4
}
